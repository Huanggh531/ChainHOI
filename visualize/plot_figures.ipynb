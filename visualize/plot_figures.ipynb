{
 "cells": [
  {
   "cell_type": "code",
   "execution_count": null,
   "id": "initial_id",
   "metadata": {
    "collapsed": true,
    "is_executing": true
   },
   "outputs": [],
   "source": [
    "import os \n",
    "import os.path as osp\n",
    "from tqdm import tqdm\n",
    "\n",
    "import numpy as np\n",
    "import torch\n",
    "os.chdir(\"../\")\n"
   ]
  },
  {
   "cell_type": "code",
   "execution_count": null,
   "outputs": [],
   "source": [
    "# run on 192.168.1.4\n",
    "motion = np.load(\"./data/HumanML3D_guo/new_joints/013150.npy\")"
   ],
   "metadata": {
    "collapsed": false
   },
   "id": "69b32ad171a70ced"
  },
  {
   "cell_type": "code",
   "execution_count": null,
   "outputs": [],
   "source": [
    "K = 3\n",
    "ids = np.arange(motion.shape[0])\n",
    "keyframe = np.array([64, 168])\n",
    "\n",
    "dis = np.abs(ids[..., None] - keyframe[None, :]).min(axis=1)\n",
    "max_ids = np.max(dis)\n",
    "stage = np.ceil(dis / max_ids * K)\n",
    "# print(stage)\n",
    "for i in range(1, K+1):\n",
    "    print(ids[stage==i])"
   ],
   "metadata": {
    "collapsed": false
   },
   "id": "5b5efe6acddeea79"
  },
  {
   "cell_type": "code",
   "execution_count": null,
   "outputs": [],
   "source": [
    "np.linspace(64, 168, 7, endpoint=True)"
   ],
   "metadata": {
    "collapsed": false
   },
   "id": "74656bdcf5ae117d"
  },
  {
   "cell_type": "code",
   "execution_count": null,
   "outputs": [],
   "source": [
    "import matplotlib.pyplot as plt\n",
    "\n",
    "frames = [\n",
    "    [64, 168],\n",
    "    [32, 81, 151, 184],\n",
    "    [98, 133, 195],\n",
    "    [116]\n",
    "]\n",
    "# colors = plt.get_cmap('plasma')(np.linspace(0, 1, 10))[[9, 7, 5, 3]]\n",
    "colors = [[255, 165, 0], [191,91,23], [73,104,182], [0,80,255]]\n",
    "colors = np.array(colors) / 255\n",
    "\n",
    "frame_groups = [(frames[i], colors[i]) for i in range(4)]\n",
    "frame_groups = frame_groups[:1]\n",
    "\n"
   ],
   "metadata": {
    "collapsed": false
   },
   "id": "67498f478f9be47b"
  },
  {
   "cell_type": "code",
   "execution_count": null,
   "outputs": [],
   "source": [
    "from visualize.blend_render import blender_kpg, get_motion_meshes\n",
    "\n",
    "device = torch.device(\"cuda:0\")\n",
    "name = \"013150\"\n",
    "vertices, faces = get_motion_meshes(motion, name, device, mesh_dir=\"./visual_datas/meshes/\")\n",
    "blender_kpg(vertices, faces, name, \"./visual_datas/sequence\", frame_groups, image_quality=\"high\")\n"
   ],
   "metadata": {
    "collapsed": false
   },
   "id": "d46f5a986fbc5562"
  },
  {
   "cell_type": "code",
   "execution_count": null,
   "outputs": [],
   "source": [
    "import matplotlib.pyplot as plt\n",
    "from matplotlib import cm\n",
    "plt.figure(dpi=150)\n",
    "\n",
    "\n",
    "K = 10\n",
    "plt.bar(range(K),range(1,K+1),color=plt.get_cmap('Accent')(range(K)))\n",
    "# plt.bar(range(K),range(1,K+1),color=plt.get_cmap('plasma')(np.linspace(0, 1, K)))\n",
    "\n",
    "print(plt.get_cmap('spring')(np.linspace(0, 1, K))*255)"
   ],
   "metadata": {
    "collapsed": false
   },
   "id": "43444c39a6a80f0e"
  },
  {
   "cell_type": "code",
   "execution_count": null,
   "outputs": [],
   "source": [
    "print(colors)"
   ],
   "metadata": {
    "collapsed": false
   },
   "id": "656c1fa628e41943"
  }
 ],
 "metadata": {
  "kernelspec": {
   "display_name": "Python 3",
   "language": "python",
   "name": "python3"
  },
  "language_info": {
   "codemirror_mode": {
    "name": "ipython",
    "version": 2
   },
   "file_extension": ".py",
   "mimetype": "text/x-python",
   "name": "python",
   "nbconvert_exporter": "python",
   "pygments_lexer": "ipython2",
   "version": "2.7.6"
  }
 },
 "nbformat": 4,
 "nbformat_minor": 5
}
